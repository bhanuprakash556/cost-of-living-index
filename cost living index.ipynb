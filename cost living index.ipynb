{
 "cells": [
  {
   "cell_type": "code",
   "execution_count": 1,
   "metadata": {},
   "outputs": [],
   "source": [
    "\n",
    "import numpy as np\n",
    "import os\n",
    "import pylab as py\n",
    "import pandas as pd\n",
    "%matplotlib inline\n",
    "import seaborn as sns"
   ]
  },
  {
   "cell_type": "code",
   "execution_count": 2,
   "metadata": {},
   "outputs": [
    {
     "data": {
      "text/plain": [
       "'C:\\\\Users\\\\USER\\\\Downloads\\\\Microsoft.SkypeApp_kzf8qxf38zg5c!App\\\\All'"
      ]
     },
     "execution_count": 2,
     "metadata": {},
     "output_type": "execute_result"
    }
   ],
   "source": [
    "os.getcwd()"
   ]
  },
  {
   "cell_type": "code",
   "execution_count": 4,
   "metadata": {},
   "outputs": [],
   "source": [
    "path=os.getcwd()"
   ]
  },
  {
   "cell_type": "code",
   "execution_count": 5,
   "metadata": {},
   "outputs": [
    {
     "data": {
      "text/html": [
       "<div>\n",
       "<style scoped>\n",
       "    .dataframe tbody tr th:only-of-type {\n",
       "        vertical-align: middle;\n",
       "    }\n",
       "\n",
       "    .dataframe tbody tr th {\n",
       "        vertical-align: top;\n",
       "    }\n",
       "\n",
       "    .dataframe thead th {\n",
       "        text-align: right;\n",
       "    }\n",
       "</style>\n",
       "<table border=\"1\" class=\"dataframe\">\n",
       "  <thead>\n",
       "    <tr style=\"text-align: right;\">\n",
       "      <th></th>\n",
       "      <th>Rank</th>\n",
       "      <th>City</th>\n",
       "      <th>CostofLivingIndex</th>\n",
       "      <th>RentIndex</th>\n",
       "      <th>GroceriesIndex</th>\n",
       "      <th>RestaurantPriceIndex</th>\n",
       "      <th>LocalPurchasingPowerIndex</th>\n",
       "    </tr>\n",
       "  </thead>\n",
       "  <tbody>\n",
       "    <tr>\n",
       "      <th>0</th>\n",
       "      <td>1</td>\n",
       "      <td>Zurich, Switzerland</td>\n",
       "      <td>149.53</td>\n",
       "      <td>66.76</td>\n",
       "      <td>163.71</td>\n",
       "      <td>140.58</td>\n",
       "      <td>126.30</td>\n",
       "    </tr>\n",
       "    <tr>\n",
       "      <th>1</th>\n",
       "      <td>2</td>\n",
       "      <td>Hamilton, Bermuda</td>\n",
       "      <td>148.13</td>\n",
       "      <td>117.80</td>\n",
       "      <td>145.20</td>\n",
       "      <td>152.54</td>\n",
       "      <td>93.42</td>\n",
       "    </tr>\n",
       "    <tr>\n",
       "      <th>2</th>\n",
       "      <td>3</td>\n",
       "      <td>Zug, Switzerland</td>\n",
       "      <td>142.54</td>\n",
       "      <td>67.39</td>\n",
       "      <td>148.36</td>\n",
       "      <td>143.18</td>\n",
       "      <td>105.62</td>\n",
       "    </tr>\n",
       "    <tr>\n",
       "      <th>3</th>\n",
       "      <td>4</td>\n",
       "      <td>Geneva, Switzerland</td>\n",
       "      <td>142.12</td>\n",
       "      <td>70.25</td>\n",
       "      <td>147.13</td>\n",
       "      <td>138.96</td>\n",
       "      <td>115.20</td>\n",
       "    </tr>\n",
       "    <tr>\n",
       "      <th>4</th>\n",
       "      <td>5</td>\n",
       "      <td>Basel, Switzerland</td>\n",
       "      <td>142.02</td>\n",
       "      <td>51.54</td>\n",
       "      <td>149.54</td>\n",
       "      <td>131.72</td>\n",
       "      <td>113.13</td>\n",
       "    </tr>\n",
       "  </tbody>\n",
       "</table>\n",
       "</div>"
      ],
      "text/plain": [
       "   Rank                 City  CostofLivingIndex  RentIndex  GroceriesIndex  \\\n",
       "0     1  Zurich, Switzerland             149.53      66.76          163.71   \n",
       "1     2    Hamilton, Bermuda             148.13     117.80          145.20   \n",
       "2     3     Zug, Switzerland             142.54      67.39          148.36   \n",
       "3     4  Geneva, Switzerland             142.12      70.25          147.13   \n",
       "4     5   Basel, Switzerland             142.02      51.54          149.54   \n",
       "\n",
       "   RestaurantPriceIndex  LocalPurchasingPowerIndex  \n",
       "0                140.58                     126.30  \n",
       "1                152.54                      93.42  \n",
       "2                143.18                     105.62  \n",
       "3                138.96                     115.20  \n",
       "4                131.72                     113.13  "
      ]
     },
     "execution_count": 5,
     "metadata": {},
     "output_type": "execute_result"
    }
   ],
   "source": [
    "data = pd.read_csv('CLI data.csv')\n",
    "data.head()"
   ]
  },
  {
   "cell_type": "code",
   "execution_count": 6,
   "metadata": {},
   "outputs": [
    {
     "data": {
      "text/plain": [
       "(511, 7)"
      ]
     },
     "execution_count": 6,
     "metadata": {},
     "output_type": "execute_result"
    }
   ],
   "source": [
    "data.shape"
   ]
  },
  {
   "cell_type": "code",
   "execution_count": 7,
   "metadata": {
    "scrolled": true
   },
   "outputs": [
    {
     "data": {
      "text/html": [
       "<div>\n",
       "<style scoped>\n",
       "    .dataframe tbody tr th:only-of-type {\n",
       "        vertical-align: middle;\n",
       "    }\n",
       "\n",
       "    .dataframe tbody tr th {\n",
       "        vertical-align: top;\n",
       "    }\n",
       "\n",
       "    .dataframe thead th {\n",
       "        text-align: right;\n",
       "    }\n",
       "</style>\n",
       "<table border=\"1\" class=\"dataframe\">\n",
       "  <thead>\n",
       "    <tr style=\"text-align: right;\">\n",
       "      <th></th>\n",
       "      <th>Rank</th>\n",
       "      <th>CostofLivingIndex</th>\n",
       "      <th>RentIndex</th>\n",
       "      <th>GroceriesIndex</th>\n",
       "      <th>RestaurantPriceIndex</th>\n",
       "      <th>LocalPurchasingPowerIndex</th>\n",
       "    </tr>\n",
       "  </thead>\n",
       "  <tbody>\n",
       "    <tr>\n",
       "      <th>count</th>\n",
       "      <td>511.000000</td>\n",
       "      <td>511.000000</td>\n",
       "      <td>511.000000</td>\n",
       "      <td>511.000000</td>\n",
       "      <td>511.000000</td>\n",
       "      <td>511.000000</td>\n",
       "    </tr>\n",
       "    <tr>\n",
       "      <th>mean</th>\n",
       "      <td>256.000000</td>\n",
       "      <td>65.177691</td>\n",
       "      <td>26.765793</td>\n",
       "      <td>63.414697</td>\n",
       "      <td>58.992524</td>\n",
       "      <td>79.989687</td>\n",
       "    </tr>\n",
       "    <tr>\n",
       "      <th>std</th>\n",
       "      <td>147.657261</td>\n",
       "      <td>22.371029</td>\n",
       "      <td>17.651107</td>\n",
       "      <td>24.380114</td>\n",
       "      <td>26.669124</td>\n",
       "      <td>33.742696</td>\n",
       "    </tr>\n",
       "    <tr>\n",
       "      <th>min</th>\n",
       "      <td>1.000000</td>\n",
       "      <td>21.750000</td>\n",
       "      <td>3.130000</td>\n",
       "      <td>22.030000</td>\n",
       "      <td>12.120000</td>\n",
       "      <td>2.960000</td>\n",
       "    </tr>\n",
       "    <tr>\n",
       "      <th>25%</th>\n",
       "      <td>128.500000</td>\n",
       "      <td>45.740000</td>\n",
       "      <td>12.975000</td>\n",
       "      <td>42.460000</td>\n",
       "      <td>33.325000</td>\n",
       "      <td>51.285000</td>\n",
       "    </tr>\n",
       "    <tr>\n",
       "      <th>50%</th>\n",
       "      <td>256.000000</td>\n",
       "      <td>70.640000</td>\n",
       "      <td>24.540000</td>\n",
       "      <td>64.980000</td>\n",
       "      <td>65.370000</td>\n",
       "      <td>84.160000</td>\n",
       "    </tr>\n",
       "    <tr>\n",
       "      <th>75%</th>\n",
       "      <td>383.500000</td>\n",
       "      <td>79.765000</td>\n",
       "      <td>34.440000</td>\n",
       "      <td>80.460000</td>\n",
       "      <td>78.175000</td>\n",
       "      <td>104.555000</td>\n",
       "    </tr>\n",
       "    <tr>\n",
       "      <th>max</th>\n",
       "      <td>511.000000</td>\n",
       "      <td>149.530000</td>\n",
       "      <td>119.630000</td>\n",
       "      <td>163.710000</td>\n",
       "      <td>152.540000</td>\n",
       "      <td>176.220000</td>\n",
       "    </tr>\n",
       "  </tbody>\n",
       "</table>\n",
       "</div>"
      ],
      "text/plain": [
       "             Rank  CostofLivingIndex   RentIndex  GroceriesIndex  \\\n",
       "count  511.000000         511.000000  511.000000      511.000000   \n",
       "mean   256.000000          65.177691   26.765793       63.414697   \n",
       "std    147.657261          22.371029   17.651107       24.380114   \n",
       "min      1.000000          21.750000    3.130000       22.030000   \n",
       "25%    128.500000          45.740000   12.975000       42.460000   \n",
       "50%    256.000000          70.640000   24.540000       64.980000   \n",
       "75%    383.500000          79.765000   34.440000       80.460000   \n",
       "max    511.000000         149.530000  119.630000      163.710000   \n",
       "\n",
       "       RestaurantPriceIndex  LocalPurchasingPowerIndex  \n",
       "count            511.000000                 511.000000  \n",
       "mean              58.992524                  79.989687  \n",
       "std               26.669124                  33.742696  \n",
       "min               12.120000                   2.960000  \n",
       "25%               33.325000                  51.285000  \n",
       "50%               65.370000                  84.160000  \n",
       "75%               78.175000                 104.555000  \n",
       "max              152.540000                 176.220000  "
      ]
     },
     "execution_count": 7,
     "metadata": {},
     "output_type": "execute_result"
    }
   ],
   "source": [
    "data.describe()"
   ]
  },
  {
   "cell_type": "code",
   "execution_count": 8,
   "metadata": {},
   "outputs": [
    {
     "data": {
      "text/plain": [
       "array([[<matplotlib.axes._subplots.AxesSubplot object at 0x000002AFDBFEAF98>,\n",
       "        <matplotlib.axes._subplots.AxesSubplot object at 0x000002AFDC2AAD68>],\n",
       "       [<matplotlib.axes._subplots.AxesSubplot object at 0x000002AFDC2DD0B8>,\n",
       "        <matplotlib.axes._subplots.AxesSubplot object at 0x000002AFDC3063C8>],\n",
       "       [<matplotlib.axes._subplots.AxesSubplot object at 0x000002AFDC3306D8>,\n",
       "        <matplotlib.axes._subplots.AxesSubplot object at 0x000002AFDC330710>]],\n",
       "      dtype=object)"
      ]
     },
     "execution_count": 8,
     "metadata": {},
     "output_type": "execute_result"
    },
    {
     "data": {
      "image/png": "[encoded data removed]",
      "text/plain": [
       "<Figure size 432x288 with 6 Axes>"
      ]
     },
     "metadata": {
      "needs_background": "light"
     },
     "output_type": "display_data"
    }
   ],
   "source": [
    "data.hist()"
   ]
  },
  {
   "cell_type": "code",
   "execution_count": 9,
   "metadata": {},
   "outputs": [
    {
     "data": {
      "text/html": [
       "<div>\n",
       "<style scoped>\n",
       "    .dataframe tbody tr th:only-of-type {\n",
       "        vertical-align: middle;\n",
       "    }\n",
       "\n",
       "    .dataframe tbody tr th {\n",
       "        vertical-align: top;\n",
       "    }\n",
       "\n",
       "    .dataframe thead th {\n",
       "        text-align: right;\n",
       "    }\n",
       "</style>\n",
       "<table border=\"1\" class=\"dataframe\">\n",
       "  <thead>\n",
       "    <tr style=\"text-align: right;\">\n",
       "      <th></th>\n",
       "      <th>Rank</th>\n",
       "      <th>CostofLivingIndex</th>\n",
       "      <th>RentIndex</th>\n",
       "      <th>GroceriesIndex</th>\n",
       "      <th>RestaurantPriceIndex</th>\n",
       "      <th>LocalPurchasingPowerIndex</th>\n",
       "    </tr>\n",
       "  </thead>\n",
       "  <tbody>\n",
       "    <tr>\n",
       "      <th>Rank</th>\n",
       "      <td>1.000000</td>\n",
       "      <td>-0.959172</td>\n",
       "      <td>-0.782664</td>\n",
       "      <td>-0.913607</td>\n",
       "      <td>-0.916782</td>\n",
       "      <td>-0.655340</td>\n",
       "    </tr>\n",
       "    <tr>\n",
       "      <th>CostofLivingIndex</th>\n",
       "      <td>-0.959172</td>\n",
       "      <td>1.000000</td>\n",
       "      <td>0.785660</td>\n",
       "      <td>0.951882</td>\n",
       "      <td>0.950629</td>\n",
       "      <td>0.642080</td>\n",
       "    </tr>\n",
       "    <tr>\n",
       "      <th>RentIndex</th>\n",
       "      <td>-0.782664</td>\n",
       "      <td>0.785660</td>\n",
       "      <td>1.000000</td>\n",
       "      <td>0.767436</td>\n",
       "      <td>0.752309</td>\n",
       "      <td>0.600043</td>\n",
       "    </tr>\n",
       "    <tr>\n",
       "      <th>GroceriesIndex</th>\n",
       "      <td>-0.913607</td>\n",
       "      <td>0.951882</td>\n",
       "      <td>0.767436</td>\n",
       "      <td>1.000000</td>\n",
       "      <td>0.851855</td>\n",
       "      <td>0.645834</td>\n",
       "    </tr>\n",
       "    <tr>\n",
       "      <th>RestaurantPriceIndex</th>\n",
       "      <td>-0.916782</td>\n",
       "      <td>0.950629</td>\n",
       "      <td>0.752309</td>\n",
       "      <td>0.851855</td>\n",
       "      <td>1.000000</td>\n",
       "      <td>0.643693</td>\n",
       "    </tr>\n",
       "    <tr>\n",
       "      <th>LocalPurchasingPowerIndex</th>\n",
       "      <td>-0.655340</td>\n",
       "      <td>0.642080</td>\n",
       "      <td>0.600043</td>\n",
       "      <td>0.645834</td>\n",
       "      <td>0.643693</td>\n",
       "      <td>1.000000</td>\n",
       "    </tr>\n",
       "  </tbody>\n",
       "</table>\n",
       "</div>"
      ],
      "text/plain": [
       "                               Rank  CostofLivingIndex  RentIndex  \\\n",
       "Rank                       1.000000          -0.959172  -0.782664   \n",
       "CostofLivingIndex         -0.959172           1.000000   0.785660   \n",
       "RentIndex                 -0.782664           0.785660   1.000000   \n",
       "GroceriesIndex            -0.913607           0.951882   0.767436   \n",
       "RestaurantPriceIndex      -0.916782           0.950629   0.752309   \n",
       "LocalPurchasingPowerIndex -0.655340           0.642080   0.600043   \n",
       "\n",
       "                           GroceriesIndex  RestaurantPriceIndex  \\\n",
       "Rank                            -0.913607             -0.916782   \n",
       "CostofLivingIndex                0.951882              0.950629   \n",
       "RentIndex                        0.767436              0.752309   \n",
       "GroceriesIndex                   1.000000              0.851855   \n",
       "RestaurantPriceIndex             0.851855              1.000000   \n",
       "LocalPurchasingPowerIndex        0.645834              0.643693   \n",
       "\n",
       "                           LocalPurchasingPowerIndex  \n",
       "Rank                                       -0.655340  \n",
       "CostofLivingIndex                           0.642080  \n",
       "RentIndex                                   0.600043  \n",
       "GroceriesIndex                              0.645834  \n",
       "RestaurantPriceIndex                        0.643693  \n",
       "LocalPurchasingPowerIndex                   1.000000  "
      ]
     },
     "execution_count": 9,
     "metadata": {},
     "output_type": "execute_result"
    }
   ],
   "source": [
    "data.corr()"
   ]
  },
  {
   "cell_type": "code",
   "execution_count": 10,
   "metadata": {},
   "outputs": [
    {
     "data": {
      "text/plain": [
       "<matplotlib.axes._subplots.AxesSubplot at 0x2afdd50a240>"
      ]
     },
     "execution_count": 10,
     "metadata": {},
     "output_type": "execute_result"
    },
    {
     "data": {
      "image/png": "[encoded data removed]",
      "text/plain": [
       "<Figure size 432x288 with 2 Axes>"
      ]
     },
     "metadata": {
      "needs_background": "light"
     },
     "output_type": "display_data"
    }
   ],
   "source": [
    "sns.heatmap(data.corr())"
   ]
  },
  {
   "cell_type": "code",
   "execution_count": 11,
   "metadata": {},
   "outputs": [
    {
     "name": "stderr",
     "output_type": "stream",
     "text": [
      "C:\\Users\\Lenovo\\Anaconda3\\lib\\site-packages\\sklearn\\cross_validation.py:41: DeprecationWarning: This module was deprecated in version 0.18 in favor of the model_selection module into which all the refactored classes and functions are moved. Also note that the interface of the new CV iterators are different from that of this module. This module will be removed in 0.20.\n",
      "  \"This module will be removed in 0.20.\", DeprecationWarning)\n"
     ]
    }
   ],
   "source": [
    "from sklearn.preprocessing import StandardScaler\n",
    "from sklearn import linear_model\n",
    "from sklearn.cross_validation import cross_val_predict\n",
    "\n",
    "scale = StandardScaler()"
   ]
  },
  {
   "cell_type": "code",
   "execution_count": 12,
   "metadata": {},
   "outputs": [],
   "source": [
    "x = data.loc[:,['Rank','RentIndex','GroceriesIndex','RestaurantPriceIndex','LocalPurchasingPowerIndex']]\n",
    "y = data[['CostofLivingIndex']]"
   ]
  },
  {
   "cell_type": "code",
   "execution_count": 13,
   "metadata": {},
   "outputs": [],
   "source": [
    "x_scaled = scale.fit_transform(x)"
   ]
  },
  {
   "cell_type": "code",
   "execution_count": 14,
   "metadata": {},
   "outputs": [],
   "source": [
    "lr = linear_model.LinearRegression()\n",
    "LR = lr.fit(x,y)"
   ]
  },
  {
   "cell_type": "code",
   "execution_count": 15,
   "metadata": {},
   "outputs": [
    {
     "data": {
      "text/plain": [
       "array([29.46892239])"
      ]
     },
     "execution_count": 15,
     "metadata": {},
     "output_type": "execute_result"
    }
   ],
   "source": [
    "LR.intercept_"
   ]
  },
  {
   "cell_type": "code",
   "execution_count": 21,
   "metadata": {},
   "outputs": [
    {
     "data": {
      "text/plain": [
       "array([[-0.03117383,  0.00516259,  0.39661961,  0.35160098, -0.02928196]])"
      ]
     },
     "execution_count": 21,
     "metadata": {},
     "output_type": "execute_result"
    }
   ],
   "source": [
    "LR.coef_"
   ]
  },
  {
   "cell_type": "code",
   "execution_count": null,
   "metadata": {},
   "outputs": [],
   "source": [
    "yhat = LR.predict(x_scaled)"
   ]
  },
  {
   "cell_type": "code",
   "execution_count": null,
   "metadata": {},
   "outputs": [],
   "source": [
    "predicted = cross_val_predict(lr, x, y, cv=10)"
   ]
  },
  {
   "cell_type": "code",
   "execution_count": 24,
   "metadata": {},
   "outputs": [],
   "source": [
    "def predictSales(Rank,RentIndex,GroceriesIndex,RestaurantPriceIndex,LocalPurchasingPowerIndex):\n",
    "    return(29.46 + (-0.03*Rank) - (0.005*RentIndex) + (0.39*GroceriesIndex) + ( 0.35*RestaurantPriceIndex) -(-0.02*LocalPurchasingPowerIndex))"
   ]
  },
  {
   "cell_type": "code",
   "execution_count": 28,
   "metadata": {},
   "outputs": [
    {
     "data": {
      "text/html": [
       "<div>\n",
       "<style scoped>\n",
       "    .dataframe tbody tr th:only-of-type {\n",
       "        vertical-align: middle;\n",
       "    }\n",
       "\n",
       "    .dataframe tbody tr th {\n",
       "        vertical-align: top;\n",
       "    }\n",
       "\n",
       "    .dataframe thead th {\n",
       "        text-align: right;\n",
       "    }\n",
       "</style>\n",
       "<table border=\"1\" class=\"dataframe\">\n",
       "  <thead>\n",
       "    <tr style=\"text-align: right;\">\n",
       "      <th></th>\n",
       "      <th>Rank</th>\n",
       "      <th>City</th>\n",
       "      <th>CostofLivingIndex</th>\n",
       "      <th>RentIndex</th>\n",
       "      <th>GroceriesIndex</th>\n",
       "      <th>RestaurantPriceIndex</th>\n",
       "      <th>LocalPurchasingPowerIndex</th>\n",
       "    </tr>\n",
       "  </thead>\n",
       "  <tbody>\n",
       "    <tr>\n",
       "      <th>0</th>\n",
       "      <td>1</td>\n",
       "      <td>Zurich, Switzerland</td>\n",
       "      <td>149.53</td>\n",
       "      <td>66.76</td>\n",
       "      <td>163.71</td>\n",
       "      <td>140.58</td>\n",
       "      <td>126.30</td>\n",
       "    </tr>\n",
       "    <tr>\n",
       "      <th>1</th>\n",
       "      <td>2</td>\n",
       "      <td>Hamilton, Bermuda</td>\n",
       "      <td>148.13</td>\n",
       "      <td>117.80</td>\n",
       "      <td>145.20</td>\n",
       "      <td>152.54</td>\n",
       "      <td>93.42</td>\n",
       "    </tr>\n",
       "    <tr>\n",
       "      <th>2</th>\n",
       "      <td>3</td>\n",
       "      <td>Zug, Switzerland</td>\n",
       "      <td>142.54</td>\n",
       "      <td>67.39</td>\n",
       "      <td>148.36</td>\n",
       "      <td>143.18</td>\n",
       "      <td>105.62</td>\n",
       "    </tr>\n",
       "    <tr>\n",
       "      <th>3</th>\n",
       "      <td>4</td>\n",
       "      <td>Geneva, Switzerland</td>\n",
       "      <td>142.12</td>\n",
       "      <td>70.25</td>\n",
       "      <td>147.13</td>\n",
       "      <td>138.96</td>\n",
       "      <td>115.20</td>\n",
       "    </tr>\n",
       "    <tr>\n",
       "      <th>4</th>\n",
       "      <td>5</td>\n",
       "      <td>Basel, Switzerland</td>\n",
       "      <td>142.02</td>\n",
       "      <td>51.54</td>\n",
       "      <td>149.54</td>\n",
       "      <td>131.72</td>\n",
       "      <td>113.13</td>\n",
       "    </tr>\n",
       "    <tr>\n",
       "      <th>5</th>\n",
       "      <td>6</td>\n",
       "      <td>Bern, Switzerland</td>\n",
       "      <td>135.51</td>\n",
       "      <td>45.33</td>\n",
       "      <td>145.72</td>\n",
       "      <td>122.48</td>\n",
       "      <td>101.65</td>\n",
       "    </tr>\n",
       "    <tr>\n",
       "      <th>6</th>\n",
       "      <td>7</td>\n",
       "      <td>Lausanne, Switzerland</td>\n",
       "      <td>131.38</td>\n",
       "      <td>54.56</td>\n",
       "      <td>136.95</td>\n",
       "      <td>127.87</td>\n",
       "      <td>112.33</td>\n",
       "    </tr>\n",
       "    <tr>\n",
       "      <th>7</th>\n",
       "      <td>8</td>\n",
       "      <td>Reykjavik, Iceland</td>\n",
       "      <td>130.73</td>\n",
       "      <td>55.90</td>\n",
       "      <td>128.37</td>\n",
       "      <td>140.61</td>\n",
       "      <td>68.49</td>\n",
       "    </tr>\n",
       "    <tr>\n",
       "      <th>8</th>\n",
       "      <td>9</td>\n",
       "      <td>Lugano, Switzerland</td>\n",
       "      <td>124.39</td>\n",
       "      <td>51.73</td>\n",
       "      <td>120.83</td>\n",
       "      <td>127.53</td>\n",
       "      <td>108.92</td>\n",
       "    </tr>\n",
       "    <tr>\n",
       "      <th>9</th>\n",
       "      <td>10</td>\n",
       "      <td>Stavanger, Norway</td>\n",
       "      <td>116.98</td>\n",
       "      <td>37.40</td>\n",
       "      <td>107.72</td>\n",
       "      <td>142.61</td>\n",
       "      <td>101.00</td>\n",
       "    </tr>\n",
       "  </tbody>\n",
       "</table>\n",
       "</div>"
      ],
      "text/plain": [
       "   Rank                   City  CostofLivingIndex  RentIndex  GroceriesIndex  \\\n",
       "0     1    Zurich, Switzerland             149.53      66.76          163.71   \n",
       "1     2      Hamilton, Bermuda             148.13     117.80          145.20   \n",
       "2     3       Zug, Switzerland             142.54      67.39          148.36   \n",
       "3     4    Geneva, Switzerland             142.12      70.25          147.13   \n",
       "4     5     Basel, Switzerland             142.02      51.54          149.54   \n",
       "5     6      Bern, Switzerland             135.51      45.33          145.72   \n",
       "6     7  Lausanne, Switzerland             131.38      54.56          136.95   \n",
       "7     8     Reykjavik, Iceland             130.73      55.90          128.37   \n",
       "8     9    Lugano, Switzerland             124.39      51.73          120.83   \n",
       "9    10      Stavanger, Norway             116.98      37.40          107.72   \n",
       "\n",
       "   RestaurantPriceIndex  LocalPurchasingPowerIndex  \n",
       "0                140.58                     126.30  \n",
       "1                152.54                      93.42  \n",
       "2                143.18                     105.62  \n",
       "3                138.96                     115.20  \n",
       "4                131.72                     113.13  \n",
       "5                122.48                     101.65  \n",
       "6                127.87                     112.33  \n",
       "7                140.61                      68.49  \n",
       "8                127.53                     108.92  \n",
       "9                142.61                     101.00  "
      ]
     },
     "execution_count": 28,
     "metadata": {},
     "output_type": "execute_result"
    }
   ],
   "source": [
    "data.head(10)"
   ]
  },
  {
   "cell_type": "code",
   "execution_count": 26,
   "metadata": {},
   "outputs": [
    {
     "data": {
      "text/plain": [
       "135.73749999999998"
      ]
     },
     "execution_count": 26,
     "metadata": {},
     "output_type": "execute_result"
    }
   ],
   "source": [
    "predictSales(5,51.54,149.54,131.72,113.13)\n"
   ]
  },
  {
   "cell_type": "code",
   "execution_count": 29,
   "metadata": {},
   "outputs": [
    {
     "data": {
      "text/plain": [
       "122.9173"
      ]
     },
     "execution_count": 29,
     "metadata": {},
     "output_type": "execute_result"
    }
   ],
   "source": [
    "predictSales(10,37.40,107.72,142.61,101.00)"
   ]
  },
  {
   "cell_type": "code",
   "execution_count": 32,
   "metadata": {},
   "outputs": [
    {
     "data": {
      "text/plain": [
       "129.3888"
      ]
     },
     "execution_count": 32,
     "metadata": {},
     "output_type": "execute_result"
    }
   ],
   "source": [
    "predictSales(7,54.56,136.95,127.87,112.33)"
   ]
  },
  {
   "cell_type": "code",
   "execution_count": 31,
   "metadata": {},
   "outputs": [
    {
     "data": {
      "text/plain": [
       "0.9820997139190374"
      ]
     },
     "execution_count": 31,
     "metadata": {},
     "output_type": "execute_result"
    }
   ],
   "source": [
    "LR.score(x,y)"
   ]
  },
  {
   "cell_type": "code",
   "execution_count": null,
   "metadata": {},
   "outputs": [],
   "source": []
  }
 ],
 "metadata": {
  "kernelspec": {
   "display_name": "Python 3",
   "language": "python",
   "name": "python3"
  },
  "language_info": {
   "codemirror_mode": {
    "name": "ipython",
    "version": 3
   },
   "file_extension": ".py",
   "mimetype": "text/x-python",
   "name": "python",
   "nbconvert_exporter": "python",
   "pygments_lexer": "ipython3",
   "version": "3.6.5"
  }
 },
 "nbformat": 4,
 "nbformat_minor": 2
}
